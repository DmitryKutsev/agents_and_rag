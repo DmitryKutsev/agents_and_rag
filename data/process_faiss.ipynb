{
 "cells": [
  {
   "cell_type": "code",
   "execution_count": 1,
   "metadata": {},
   "outputs": [],
   "source": [
    "from langchain.embeddings.openai import OpenAIEmbeddings\n",
    "from langchain.text_splitter import CharacterTextSplitter\n",
    "from langchain.vectorstores import FAISS\n",
    "\n",
    "import pandas as pd"
   ]
  },
  {
   "cell_type": "code",
   "execution_count": 2,
   "metadata": {},
   "outputs": [
    {
     "name": "stderr",
     "output_type": "stream",
     "text": [
      "/workspaces/agents_and_rag/.venv/lib/python3.10/site-packages/langchain_core/_api/deprecation.py:117: LangChainDeprecationWarning: The class `langchain_community.embeddings.openai.OpenAIEmbeddings` was deprecated in langchain-community 0.1.0 and will be removed in 0.2.0. An updated version of the class exists in the langchain-openai package and should be used instead. To use it run `pip install -U langchain-openai` and import as `from langchain_openai import OpenAIEmbeddings`.\n",
      "  warn_deprecated(\n"
     ]
    }
   ],
   "source": [
    "embeddings = OpenAIEmbeddings()"
   ]
  },
  {
   "cell_type": "code",
   "execution_count": 3,
   "metadata": {},
   "outputs": [
    {
     "data": {
      "text/html": [
       "<div>\n",
       "<style scoped>\n",
       "    .dataframe tbody tr th:only-of-type {\n",
       "        vertical-align: middle;\n",
       "    }\n",
       "\n",
       "    .dataframe tbody tr th {\n",
       "        vertical-align: top;\n",
       "    }\n",
       "\n",
       "    .dataframe thead th {\n",
       "        text-align: right;\n",
       "    }\n",
       "</style>\n",
       "<table border=\"1\" class=\"dataframe\">\n",
       "  <thead>\n",
       "    <tr style=\"text-align: right;\">\n",
       "      <th></th>\n",
       "      <th>company</th>\n",
       "      <th>industry</th>\n",
       "      <th>jobdescription</th>\n",
       "    </tr>\n",
       "  </thead>\n",
       "  <tbody>\n",
       "    <tr>\n",
       "      <th>0</th>\n",
       "      <td>MM Media Pvt Ltd</td>\n",
       "      <td>Media / Entertainment / Internet</td>\n",
       "      <td>Job Description Â  Send me Jobs like this Qual...</td>\n",
       "    </tr>\n",
       "    <tr>\n",
       "      <th>1</th>\n",
       "      <td>find live infotech</td>\n",
       "      <td>Advertising / PR / MR / Event Management</td>\n",
       "      <td>Job Description Â  Send me Jobs like this Qual...</td>\n",
       "    </tr>\n",
       "    <tr>\n",
       "      <th>2</th>\n",
       "      <td>Softtech Career Infosystem Pvt. Ltd</td>\n",
       "      <td>IT-Software / Software Services</td>\n",
       "      <td>Job Description Â  Send me Jobs like this - as...</td>\n",
       "    </tr>\n",
       "    <tr>\n",
       "      <th>3</th>\n",
       "      <td>Onboard HRServices LLP</td>\n",
       "      <td>Banking / Financial Services / Broking</td>\n",
       "      <td>Job Description Â  Send me Jobs like this - In...</td>\n",
       "    </tr>\n",
       "    <tr>\n",
       "      <th>4</th>\n",
       "      <td>Spire Technologies and Solutions Pvt. Ltd.</td>\n",
       "      <td>IT-Software / Software Services</td>\n",
       "      <td>Job Description Â  Send me Jobs like this Plea...</td>\n",
       "    </tr>\n",
       "  </tbody>\n",
       "</table>\n",
       "</div>"
      ],
      "text/plain": [
       "                                      company  \\\n",
       "0                            MM Media Pvt Ltd   \n",
       "1                          find live infotech   \n",
       "2         Softtech Career Infosystem Pvt. Ltd   \n",
       "3                      Onboard HRServices LLP   \n",
       "4  Spire Technologies and Solutions Pvt. Ltd.   \n",
       "\n",
       "                                   industry  \\\n",
       "0          Media / Entertainment / Internet   \n",
       "1  Advertising / PR / MR / Event Management   \n",
       "2           IT-Software / Software Services   \n",
       "3    Banking / Financial Services / Broking   \n",
       "4           IT-Software / Software Services   \n",
       "\n",
       "                                      jobdescription  \n",
       "0  Job Description Â  Send me Jobs like this Qual...  \n",
       "1  Job Description Â  Send me Jobs like this Qual...  \n",
       "2  Job Description Â  Send me Jobs like this - as...  \n",
       "3  Job Description Â  Send me Jobs like this - In...  \n",
       "4  Job Description Â  Send me Jobs like this Plea...  "
      ]
     },
     "execution_count": 3,
     "metadata": {},
     "output_type": "execute_result"
    }
   ],
   "source": [
    "descriptions_df = pd.read_csv('job_descriptions.csv', sep=';')\n",
    "descriptions_df.head()\n"
   ]
  },
  {
   "cell_type": "code",
   "execution_count": 4,
   "metadata": {},
   "outputs": [
    {
     "data": {
      "text/plain": [
       "'Aviation / Aerospace Firms'"
      ]
     },
     "execution_count": 4,
     "metadata": {},
     "output_type": "execute_result"
    }
   ],
   "source": [
    "descriptions_df[\"jobdescription\"][7]"
   ]
  },
  {
   "cell_type": "code",
   "execution_count": 13,
   "metadata": {},
   "outputs": [
    {
     "data": {
      "text/plain": [
       "[' qualifications: - == > 10th to graduation & any skill: - == > basic computer knowledge job requirement : - == > system or laptop type of job: - == > full time or part time languages : - == > tamil & english. experience : - == > freshers & experience payment details: - 1 form per day 5/- 10 form per day 50/- 100 form per day 500/- monthly you can earn 15000/- per month selection process: - == > easy selection process,so what are you waiting for? apply now & grab best opportunity to make your carrier & to improve your earing skills. more detail contact mr hari 8678902528 9003010282 salary:inr 1,50,000 - 2,25,000 p.a industry: media / entertainment / internet functional area: ites , bpo , kpo , lpo , customer service , operations role category:other role:fresher keyskills english typing part time data entry selection process desired candidate profile education- ug: b.tech/b.e. - any specialization pg:any postgraduate - any specialization, post graduation not required please refer to the job description above company profile: mm media pvt ltd mass media international find live info pvt ltd data services is established in the year 2012 with a vision of transforming an ordinary to extra ordinary thing. find live info is one of our main project, it is a developing search engine site based at chennai, india. with years of experience, we have crafted massive data collection job opportunities for public. find live info a blend of experience, imagination, strategy and action to create digital experience that excite, challenge, inspire and engage users. find live info provides other business opportunities which will be handled by experts of various fields. we have interesting combination of young and experienced specialists under the guidance of our top management we bloom towards success more detail contect 8678902528 download ppt photo 1 â\\xa0 view contact details',\n",
       " ' qualifications: - == > 10th to graduation & any skill: - == > basic computer knowledge job requirement : - == > system or laptop type of job: - == > full time or part time languages : - == > tamil & english. experience : - == > freshers & experience payment details: - 1 form per day 5/- 10 form per day 50/- 100 form per day 500/- monthly you can earn 15000/- per month selection process: - == > easy selection process,so what are you waiting for? apply now & grab best opportunity to make your carrier & to improve your earing skills. chennai peoples only contact deepika team leader 9087728815 / 9087726713 salary:inr 1,50,000 - 2,50,000 p.a. 20000 industry: advertising / pr / mr / event management functional area: marketing , advertising , mr , pr , media planning role category:online/digital marketing role:search engine marketing/sem specialist keyskills data entry data processing desired candidate profile education- ug: b.tech/b.e. - any specialization pg:mba/pgdm - any specialization please refer to the job description above company profile: find live infotech find live infotech is one of our main projects, it is a developing search engine site based at chennai , india. with years of experience , we have crafted massive data collection job oppurtunties for public. find live infotech provides other business opportunities which will be handled by experts of various fields download ppt photo 1 â\\xa0 view contact details',\n",
       " ' - as a developer in providing application design guidance and consultation, utilizing a thorough understanding of applicable technology, tools and existing designs. - analyzes highly complex business requirements, designs and writes technical specifications to design or redesign complex computer platforms and applications. - provides coding direction to less experienced staff or develops highly complex original code. - acts as an expert technical resource for modeling, simulation and analysis efforts. - verifies program logic by overseeing the preparation of test data, testing and debugging of programs. - oversees overall systems testing and the migration of platforms and applications to production. - develops new documentation, departmental technical procedures and user guides. - leads projects, allocates and manages resources and manages the work of less experienced staff. - assures quality, security and compliance requirements are met for supported area and oversees creation of or updates to and testing of the business continuation plan.: 7+ years application development and implementation experience. additional job details: - looking for pl/sql developer, who has experience loading data using sql loader. salary: not disclosed by recruiter industry: it-software / software services functional area: it software - application programming , maintenance role category:programming & design role:software developer keyskills sql loader pl sql development plsql procedures application design test data application development desired candidate profile â\\xa0 education- ug: any graduate - any specialization pg:any postgraduate doctorate:doctorate not required company profile: softtech career infosystem pvt. ltd leading client of softtech career infosystem pvt. ltd download ppt photo 1 â\\xa0 view contact details',\n",
       " \" - involved with all stages of indirect taxation, including planning, execution and completion and will supervise and develop those with less experience. - will be the primary on-site client contact for basic questions and information. - advise clients on various critical issues related to all arena of indirect taxes such as customs, excise, vat, service tax etc. - structured various transactions and agreements for indirect tax efficiencies - ensure strict compliance of central excise & service tax laws - attending personal hearings up to the level of tribunal. - develop internal systems to control day to day activities in terms of central excise & service tax laws - advice company management on central excise & service tax matters to decide company's policy in context of tax planning - export formalities & documentation - preparation & realization of all types of refund claims - liaison with central excise department - formalities related to establishment & operation of 100% eou & stpi, sezs. - advising various clients on works contracts for all sectors - tax planning and transaction structuring for turnkey projects including epc contracts - designing of documentation & internal procedures for day to day working under vat regime - assessment & appeal proceedings - vat audits for almost all the states under the vat for all sectors. - would be arguing various cases before various quasi judicial authorities - identifying potential new business leads & cross sell opportunities - success in conversion of referrals - ensure delivery of quality work and take day to day leadership of delivery team and make sure compliance of all aspects of taxation . salary: not disclosed by recruiter industry: banking / financial services / broking functional area: accounts , finance , tax , company secretary , audit role category:accounts role:taxation(indirect) manager keyskills service tax matters central excise customs eou vat audit indirect taxation auditing stpi export tax planning excise service tax sales tax desired candidate profile requirements :- qualified c.a. (preferably first/ second attempt)- good technical skills- expertise in the area of indirect taxes on various engagements for mnc or top indian corporate houses- experience handling excise, customs, service tax, sales tax etc.- ability to apply expertise in a consultative role- superior leadership ability- superior relationship building- presentation and public speaking- ability to analyse and think differentlyif interested, please call jyoti on 7045597424. education- ug: any graduate - any specialization pg:ca doctorate:doctorate not required company profile: onboard hrservices llp leading client of onboard hrservices llp download ppt photo 1 â\\xa0 view contact details\",\n",
       " \" please share your resume on : regina.mary@spire2grow.com 1. strong background in java/j2ee, data structures, algorithms, design patterns and web services like rest. 2. html scripting: angular js or jquery or knockout or node.js or meteor js 3. soa based software development background 4. experience in writing unit test cases using junit, testng etc. 5. knowledge on open source tools used in development process (like git) 6. experience with relational databases (mysql is a plus). 7. experience in webservers like tomcat. 8. ability to do software development following agile methodology salary: not disclosed by recruiter industry: it-software / software services functional area: it software - application programming , maintenance role category:programming & design role:team lead/technical lead keyskills javascript html jquery java tomcat mysql rest junit web services git desired candidate profile education qualification- be/b.tech or me/m.tech, mca from premier institute.experience - 6-8 yearsjob location: bangaloreinterview location :bangaloreâ\\xa0industry:product basedfunctional area: it software - application programming, maintenancerole category: programming & designrole: tech lead***note : pay scale is openâ\\xa0 education- ug: b.tech/b.e. - any specialization pg:any postgraduate - any specialization, mca - computers, m.tech - any specialization doctorate:any doctorate - any specialization company profile: spire technologies and solutions pvt. ltd. spire is a contextual search and intelligence company, founded in 2006. spire is unleashing a wave of business transformation world over with its contextual technology. we are looking for intelligent, energetic and motivated professionals who could make a difference, and become part of our journey towards setting next-generation landmarks. spire enables businesses take bigger leaps in decision making from big data analytics by charting the unexplored territories. towards this, spire's platform contributes exponentially. we build highly scalable, multi-tenant, distributed, service-oriented, cloud-hosted saas and paas products. spire uses latest open-source technologies including those related to big data which are industry standard and widely adopted. at spire, we are passionate about developing positively disruptive technologies that have proven to be transformational for business outcomes. spire technologies is adjudged as the best it employer and a dream company to work by times ascent. work culture the spire team is a diverse group of sharp, highly driven, entrepreneurial professionals. we thrive on experimentation and innovation in an informal setup\",\n",
       " \" we are currently hiring candidates willing to work on jd edwards worldsoft developer job details: * expertise in rpg programming. * good knowledge in erp domain. * knowledge in oms/wms will be an added advantage. * excellent communication and interpersonal skills. interested candidates walk in on 14th oct between 10.00 am to 5.00 pm. venue details: revtech solutions india private limited, prestige al kareem building, 1st floor, edward road, queens road, bangalore - 52 landmark : next stop of shivajinagar , indian express signal , enter queens road opposite to irobot ( queen's corner restaurant road ) note: queens road is one-way if you are coming in your own vehicle enter cunningham road take second right next to kfc enter that road and again take second right you will enter queens road, come towards signal on your right side you will find gold star hotel come little further and take right just opposite to irobot , edward road. ( entrance queen's corner restaurant ) please carry your updated profile. kindly confirm before coming for interview by mailing me on asfiyas@pfsweb.com or you can reach me at 080 40451515/080 67430025 please note : kindly be dressed in business casuals. salary: not disclosed by recruiter industry: it-software / software services functional area: it software - application programming , maintenance role category:programming & design role:software developer keyskills as400 rpg jd edwards jdedwards technical consultant rpg400 iseries os400 desired candidate profile please refer to the job description above education- ug: b.tech/b.e. - any specialization pg:mca - computers, m.tech - any specialization, computers, ms/m.sc(science) - any specialization company profile: pfs web global services pvt ltd a leading global commerce service provider, pfsweb enables brands and specialty retailers to achieve their commerce goals. we combine integrated technologies, professional services, and a worldwide network of systems and logistics infrastructure to deliver customized solutions for leading retailers and brands. we create commerce without compromise by merging these solutions together to create a branded online shopping experience across all channels. specialties strategic commerce consulting, agency services, technology services, omni-channel operations, technology ecosystem, global expansion download ppt photo 1 â\\xa0 view contact details\",\n",
       " ' experience/strong knowledge in php web application development develop and maintain new features on web application development & lamp stack handson experience in php, perl, python, mysql, jquery, ajax is must. strong in oops and must have worked in salary:inr 3,00,000 - 6,50,000 p.a industry: it-software / software services functional area: it software - application programming , maintenance role category:programming & design role:software developer keyskills lamp php mysql jquery ajax python oops web application development perl web technologies web services struts asp.net xml soap webservices shampoo desired candidate profile working experience in any of the apis like facebook, twitter or google would be added advantage create highly efficient and dynamic php code familiar with javascript frameworks like angular, react, ember and/or backbone troubleshoot, test and mainta company profile: kinesis management consultant pvt. ltd large it company , design, develop, maintain and optimize secure and scalable web applications in all phases of the development life cycle analyze requirements and develop application designs, download ppt photo 1 â\\xa0 view contact details',\n",
       " ' independent handling of entire production line with 30 employees. handling of tools and equipment using in line. give proper training to trainee employees. keep documents of materials , finished goods and daily output maintain target output with quality product. salary:inr 1,00,000 - 2,00,000 p.a industry: industrial products / heavy machinery functional area: production , manufacturing , maintenance role category:production/manufacturing/maintenance role:product development executive keyskills product quality production team leading team handling teamleadar desired candidate profile please refer to the job description above education- ug: diploma - any specialization, electronics/telecommunication company profile: hansum india electronics pvt.ltd. please have a look our website for more information. www.hansum.in download ppt photo 1 â\\xa0 view contact details',\n",
       " ' overall purpose of job and responsibilities provide translation of process documents, reports and presentations from french and german to english (or) english to french and german as required. process invoices liaise with customers and suppliers regarding queries resolution of queries skills requirement expert communication skills in spanish and english ( written and spoken ) previous experience of document management systems and processes would be an advantage. excellent interpersonal skills. ability to build credibility internally and with customers excellent pc application skills and knowledge of computerised accounting systems. ability to work under pressure & flexibility to meet demanding deadlines essential. flexible to work in any 10 hour shift salary: not disclosed by recruiter industry: it-software / software services functional area: ites , bpo , kpo , lpo , customer service , operations role category:voice role:associate/senior associate -(nontechnical) keyskills pc german french document management english spanish documents computerised accounting desired candidate profile â\\xa0 education- ug: any graduate - any specialization pg:any postgraduate company profile: accenture accenture is a leading global professional services company, providing a broad range of services and solutions in strategy, consulting, digital, technology and operations. combining unmatched experience and specialized skills across more than 40 industries and all business functionsunderpinned by the worlds largest delivery networkaccenture works at the intersection of business and technology to help clients improve their performance and create sustainable value for their stakeholders. with approximately 373,000 people serving clients in more than 120 countries, accenture drives innovation to improve the way the world works and lives. visit us at www.accenture.com download ppt photo 1 â\\xa0 view contact details',\n",
       " ' limetray is a product-start-up helping restaurants market, engage and sell to more customers online. 6 out of 10 restaurants shut down in less than a year of starting up & this is not because they serve bad food or are expensive but because they fail to reach out to enough customers to cover costs. with its data driven products and services, limetray makes it easier for such restaurants to tap the customer base that now lives online. limetray has been one of the fastest growing start-ups in india, and is present pan india in cities like delhi, bangalore, hyderabad, mumbai, navi mumbai, pune, chennai, ahmedabad, chandigarh, jaipur and other cities',\n",
       " ' greetings from convate...!!!! we are glad to inform your regarding an opening for android developers for retail/e-commerce domain client. role: android developer location: bangalore, india experience: 4-8 years role responsibilities : experience in android application development. experience in native android,android studio. knowledge in xamarin android application development. experience with core java deep understanding of technology with good hands-on experience on app development. debugging highly complex modules developed by other team members. experience in retail, e-commerce and security domains. if your profile is suitable for below description pls share the updated cv with details. if interested please send the resume to ct5@convate.com, ct14@convate.com, ct8@convate.com thanks & regards, naga krishna jyothi assistant recruitment specialist convate # 41, old airport road, murgeshpalya, bangalore 560017 (above spencers, opp. total mall) p: +91-80-40609691 skype id : convate.ct5 mail: ct5@convate.com web: http://www.convate.com join us on: www.facebook.com/convate continuous innovation in human resources salary: not disclosed by recruiter industry: it-software / software services functional area: it software - application programming , maintenance role category:programming & design role:software developer keyskills android android ndk core java xamarin desired candidate profile please refer to the job description above education- ug: any graduate - any specialization company profile: convate retail/e-commerce domain convate is a leading human resource consulting organization. provide staffing solutions and consulting services in diverse industry segments across management functions. we provide services for fortune 500 and cmm level companies. been in the permanent and contract staffing for the past 11 years. our clients are our partners: we act together to solve their immediate and long-term business goals. we listen to their unique situation and then we work to find a solution. (www.convate.com) download ppt photo 1 â\\xa0 view contact details',\n",
       " ' we are looking for a skilled and passionate  (php) developer. you should have 2+ years of experience working with multiple architectures and coding languages (front-end & back-end technologies). apply now. salary:inr 1,75,000 - 2,50,000 p.a industry: it-software / software services functional area: it software - application programming , maintenance role category:programming & design role:graphic/web designer keyskills web technologies web application  application developer  web developer desired candidate profile please refer to the job description above education- ug: b.tech/b.e. - any specialization, diploma - any specialization pg:post graduation not required doctorate:doctorate not required company profile: sinai global works on it services related to logistics download ppt photo 1 â\\xa0 view contact details',\n",
       " ' * hdl (vhdl / verilog) code generation and verification * prototyping and implementing designs on fpgas * signal processing and communication system design * computer vision and image processing system design salary: not disclosed by recruiter industry: it-software / software services functional area: it software - other role category:programming & design role:software developer keyskills verilog hdl simulation modelling hdl code fpga verilog desired candidate profile please refer to the job description above education- ug: b.tech/b.e. - any specialization pg:m.tech - any specialization doctorate:doctorate not required company profile: mathematical computing software company the company is a $800m company that employs over 3,000 employees worldwide. it is a leading developer of mathematical computing software, engineers and scientists worldwide rely on its products to accelerate the pace of discovery, innovation, and dev download ppt photo 1 â\\xa0 view contact details',\n",
       " ' responsibilities manage day-to-day activities of a data center, including physical and security checks, physical tape/ media management, assistance with physical vendor intervention (e.g. replacement of a part), act as remote hands for the administrator salary: not disclosed by recruiter industry: it-software / software services functional area: accounts , finance , tax , company secretary , audit role category:other role:outside consultant keyskills data center revenue assurance media management activities administrator desired candidate profile â\\xa0 education- ug: any graduate - any specialization pg:mba/pgdm - finance, any postgraduate company profile: accenture accenture is a leading global professional services company, providing a broad range of services and solutions in strategy, consulting, digital, technology and operations. combining unmatched experience and specialized skills across more than 40 industries and all business functionsunderpinned by the worlds largest delivery networkaccenture works at the intersection of business and technology to help clients improve their performance and create sustainable value for their stakeholders. with approximately 373,000 people serving clients in more than 120 countries, accenture drives innovation to improve the way the world works and lives. visit us at www.accenture.com download ppt photo 1 â\\xa0 view contact details',\n",
       " ' senior java  developer - java/ spring 4 @ bangalore, india our client is an it company focused on healthcare domain. they need to fill the following position asap. position : senior java  developer - java/ spring 4 ( total 2 positions ). should be able to join immediately or within 15 days max. education : engg/ bca/ mca/ equivalent experience : 5 years location : bangalore compensation : competitive and commensurate with candidate caliber and experience role - responsibilities and desired profile : 1. candidate should have these skills: object oriented paradigm, java, spring 4 (core, mvc, jdbc, security), java web sockets, java cryptography extension, apache commons (codec, collections, fileupload, compressor), jersey, jsp, jstl, nodejs, javascript / j-query, oracle, devops, unit testing 2. should be a good team player and good on verbal and written communication salary: not disclosed by recruiter industry: it-software / software services functional area: it software - application programming , maintenance role category:programming & design role:software developer keyskills jstl java jdbc jsp spring javascript jquery mvc oracle web technologies desired candidate profile basic/ug qualification:b tech or equivalent education- ug: b.tech/b.e. - any specialization, bca - computers pg:mca - computers doctorate:doctorate not required company profile: pks & associates client of pks & associates download ppt photo 1 â\\xa0 view contact details',\n",
       " ' 1. high typing speed 2. excellent english communication 3. excellent knowledge of microsoft office and in particular excel 4. should know excel macros & commands 5. low error rate while typing 6. should be able to meet / exceed targets every day salary:inr 1,00,000 - 2,00,000 p.a. incentives for achieving targets industry: recruitment / staffing functional area: executive assistant , front office , data entry role category:other role:stenographer/data entry operator keyskills excel ms office typing macros data entry data processing desired candidate profile 1. confident2. hardworking3. punctual4. follow process5. low errors during documentation company profile: smacera technologies consulting and services pvt l smacera technologies smacera technologies is a bangalore based recruitment and staffing firm started in jul 2013 download ppt photo 1 â\\xa0 view contact details',\n",
       " ' (2-3 years experience) extensive development exposure in php, html, css, javascript, jquery, hmvc * ajax,psd to html, parallax, photoshop skills will be added advantage * minimum sql knowledge is important * very good in php code salary:inr 1,00,000 - 5,00,000 p.a industry: it-software / software services functional area: it software - other role category:programming & design role:software developer keyskills html javascript jquery css ajax php psd photoshop sql sql server desired candidate profile please refer to the job description above company profile: janak vidya consultancy pvt. ltd. about web advisor web advisor is a total solutions provider assisting companies with web development, software development, web application, internet presence, e-commerce development etc. founded in 2008 download ppt photo 1 â\\xa0 view contact details',\n",
       " ' bluetooth host software development - automotive infotainment products notice period : max 30 days - 2-10 years of relevant industry work experience - excellent c programming skills - understanding of bluetooth specifications and extensive bluetooth profiles development experience. - familiarity with python and perl scripting. - experience on automotive infotainment products based on android or qnx experience. salary: not disclosed by recruiter industry: it-software / software services functional area: it software - mobile role category:programming & design role:software developer keyskills c perl python android bluetooth qnx software development bluetooth host bluetooth profiles development desired candidate profile â\\xa0 education- ug: any graduate - any specialization doctorate:doctorate not required company profile: strivex consulting pvt ltd leading client of strivex consulting pvt ltd download ppt photo 1 â\\xa0 view contact details']"
      ]
     },
     "execution_count": 13,
     "metadata": {},
     "output_type": "execute_result"
    }
   ],
   "source": [
    "weird_substring = \"Job Description Â\\xa0 Send me Jobs like this\"\n",
    "description_list = [ description.replace(weird_substring, \"\").lower().replace(\"full stack\", \"\")\n",
    "                     for description in descriptions_df[\"jobdescription\"][:20]\n",
    "                     if len(description) > 200 ]\n",
    "description_list"
   ]
  },
  {
   "cell_type": "code",
   "execution_count": 14,
   "metadata": {},
   "outputs": [],
   "source": [
    "vector_storage = FAISS.from_texts(description_list, embeddings)"
   ]
  },
  {
   "cell_type": "code",
   "execution_count": 15,
   "metadata": {},
   "outputs": [],
   "source": [
    "query = \"Fullstack developer with good experience\""
   ]
  },
  {
   "cell_type": "code",
   "execution_count": 16,
   "metadata": {},
   "outputs": [
    {
     "data": {
      "text/plain": [
       "[(Document(page_content=' experience/strong knowledge in php web application development develop and maintain new features on web application development & lamp stack handson experience in php, perl, python, mysql, jquery, ajax is must. strong in oops and must have worked in salary:inr 3,00,000 - 6,50,000 p.a industry: it-software / software services functional area: it software - application programming , maintenance role category:programming & design role:software developer keyskills lamp php mysql jquery ajax python oops web application development perl web technologies web services struts asp.net xml soap webservices shampoo desired candidate profile working experience in any of the apis like facebook, twitter or google would be added advantage create highly efficient and dynamic php code familiar with javascript frameworks like angular, react, ember and/or backbone troubleshoot, test and mainta company profile: kinesis management consultant pvt. ltd large it company , design, develop, maintain and optimize secure and scalable web applications in all phases of the development life cycle analyze requirements and develop application designs, download ppt photo 1 â\\xa0 view contact details'),\n",
       "  0.30773336),\n",
       " (Document(page_content=' we are looking for a skilled and passionate  (php) developer. you should have 2+ years of experience working with multiple architectures and coding languages (front-end & back-end technologies). apply now. salary:inr 1,75,000 - 2,50,000 p.a industry: it-software / software services functional area: it software - application programming , maintenance role category:programming & design role:graphic/web designer keyskills web technologies web application  application developer  web developer desired candidate profile please refer to the job description above education- ug: b.tech/b.e. - any specialization, diploma - any specialization pg:post graduation not required doctorate:doctorate not required company profile: sinai global works on it services related to logistics download ppt photo 1 â\\xa0 view contact details'),\n",
       "  0.32521242),\n",
       " (Document(page_content=' (2-3 years experience) extensive development exposure in php, html, css, javascript, jquery, hmvc * ajax,psd to html, parallax, photoshop skills will be added advantage * minimum sql knowledge is important * very good in php code salary:inr 1,00,000 - 5,00,000 p.a industry: it-software / software services functional area: it software - other role category:programming & design role:software developer keyskills html javascript jquery css ajax php psd photoshop sql sql server desired candidate profile please refer to the job description above company profile: janak vidya consultancy pvt. ltd. about web advisor web advisor is a total solutions provider assisting companies with web development, software development, web application, internet presence, e-commerce development etc. founded in 2008 download ppt photo 1 â\\xa0 view contact details'),\n",
       "  0.3351121),\n",
       " (Document(page_content=' - as a developer in providing application design guidance and consultation, utilizing a thorough understanding of applicable technology, tools and existing designs. - analyzes highly complex business requirements, designs and writes technical specifications to design or redesign complex computer platforms and applications. - provides coding direction to less experienced staff or develops highly complex original code. - acts as an expert technical resource for modeling, simulation and analysis efforts. - verifies program logic by overseeing the preparation of test data, testing and debugging of programs. - oversees overall systems testing and the migration of platforms and applications to production. - develops new documentation, departmental technical procedures and user guides. - leads projects, allocates and manages resources and manages the work of less experienced staff. - assures quality, security and compliance requirements are met for supported area and oversees creation of or updates to and testing of the business continuation plan.: 7+ years application development and implementation experience. additional job details: - looking for pl/sql developer, who has experience loading data using sql loader. salary: not disclosed by recruiter industry: it-software / software services functional area: it software - application programming , maintenance role category:programming & design role:software developer keyskills sql loader pl sql development plsql procedures application design test data application development desired candidate profile â\\xa0 education- ug: any graduate - any specialization pg:any postgraduate doctorate:doctorate not required company profile: softtech career infosystem pvt. ltd leading client of softtech career infosystem pvt. ltd download ppt photo 1 â\\xa0 view contact details'),\n",
       "  0.36480892)]"
      ]
     },
     "execution_count": 16,
     "metadata": {},
     "output_type": "execute_result"
    }
   ],
   "source": [
    "vector_storage.similarity_search_with_score(query)"
   ]
  },
  {
   "cell_type": "code",
   "execution_count": 17,
   "metadata": {},
   "outputs": [],
   "source": [
    "vector_storage.save_local(\"faiss_descriptions_index_cut\")"
   ]
  },
  {
   "cell_type": "code",
   "execution_count": null,
   "metadata": {},
   "outputs": [],
   "source": []
  }
 ],
 "metadata": {
  "kernelspec": {
   "display_name": "Python 3",
   "language": "python",
   "name": "python3"
  },
  "language_info": {
   "codemirror_mode": {
    "name": "ipython",
    "version": 3
   },
   "file_extension": ".py",
   "mimetype": "text/x-python",
   "name": "python",
   "nbconvert_exporter": "python",
   "pygments_lexer": "ipython3",
   "version": "3.10.13"
  }
 },
 "nbformat": 4,
 "nbformat_minor": 2
}
