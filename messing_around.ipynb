{
 "cells": [
  {
   "cell_type": "code",
   "execution_count": 1,
   "metadata": {},
   "outputs": [
    {
     "name": "stderr",
     "output_type": "stream",
     "text": [
      "/home/codespace/.python/current/lib/python3.10/site-packages/langchain_core/_api/deprecation.py:117: LangChainDeprecationWarning: The function `initialize_agent` was deprecated in LangChain 0.1.0 and will be removed in 0.2.0. Use Use new agent constructor methods like create_react_agent, create_json_agent, create_structured_chat_agent, etc. instead.\n",
      "  warn_deprecated(\n"
     ]
    }
   ],
   "source": [
    "from agents.react.react_agent import get_react_agent\n",
    "agent = get_react_agent()"
   ]
  },
  {
   "cell_type": "code",
   "execution_count": null,
   "metadata": {},
   "outputs": [],
   "source": [
    "query = \"What is the most fun company to work at according to the job descriptions?\"\n",
    "response = agent.run_agent(query)"
   ]
  },
  {
   "cell_type": "code",
   "execution_count": 2,
   "metadata": {},
   "outputs": [],
   "source": [
    "from evaluation.trajectory_evaluation.trajectory_evaluators import *"
   ]
  },
  {
   "cell_type": "code",
   "execution_count": null,
   "metadata": {},
   "outputs": [],
   "source": [
    "def agent_result():\n",
    "    query = \"How many companies exist?\"\n",
    "    agent = get_react_agent()\n",
    "    result = agent.run_agent(query)\n",
    "    return result\n",
    "\n",
    "a_result = agent_result()"
   ]
  },
  {
   "cell_type": "code",
   "execution_count": null,
   "metadata": {},
   "outputs": [],
   "source": [
    "helpfulnessEval = HelpfulnessEvaluator()\n",
    "\n",
    "# Evaluate the agent's response\n",
    "helpfulness_result = helpfulnessEval.evaluate_agent_trajectory(\n",
    "    prediction=a_result[\"output\"],\n",
    "    input=a_result[\"input\"],\n",
    "    agent_trajectory=a_result[\"intermediate_steps\"],\n",
    ")"
   ]
  },
  {
   "cell_type": "code",
   "execution_count": null,
   "metadata": {},
   "outputs": [],
   "source": [
    "print(helpfulness_result[\"reasoning\"])"
   ]
  },
  {
   "cell_type": "code",
   "execution_count": null,
   "metadata": {},
   "outputs": [],
   "source": [
    "stepEvaluator = StepNecessityEvaluator()\n",
    "\n",
    "# Evaluate the agent's response\n",
    "step_result = stepEvaluator.evaluate_agent_trajectory(\n",
    "    prediction=a_result[\"output\"],\n",
    "    input=a_result[\"input\"],\n",
    "    agent_trajectory=a_result[\"intermediate_steps\"],\n",
    ")"
   ]
  },
  {
   "cell_type": "code",
   "execution_count": null,
   "metadata": {},
   "outputs": [],
   "source": [
    "print(step_result[\"reasoning\"])"
   ]
  },
  {
   "cell_type": "code",
   "execution_count": null,
   "metadata": {},
   "outputs": [],
   "source": [
    "query = \"Find me jobs for an AI expert.\"\n",
    "response = agent.run_agent(query)"
   ]
  },
  {
   "cell_type": "code",
   "execution_count": null,
   "metadata": {},
   "outputs": [],
   "source": [
    "step_job_result = stepEvaluator.evaluate_agent_trajectory(\n",
    "    prediction=response,\n",
    "    input=query,\n",
    "    agent_trajectory=response[\"intermediate_steps\"],\n",
    ")\n",
    "print(step_job_result[\"reasoning\"])"
   ]
  },
  {
   "cell_type": "code",
   "execution_count": 3,
   "metadata": {},
   "outputs": [
    {
     "name": "stderr",
     "output_type": "stream",
     "text": [
      "\u001b[32m2024-01-19 15:45:39.847\u001b[0m | \u001b[1mINFO    \u001b[0m | \u001b[36magents.react.react_agent\u001b[0m:\u001b[36mrun_agent\u001b[0m:\u001b[36m51\u001b[0m - \u001b[1mRunning agent with template: \n",
      "    Given a query What are names of companies working with media?, find the information about the question in the query and sent the information as a response.\n",
      "    \u001b[0m\n"
     ]
    },
    {
     "name": "stdout",
     "output_type": "stream",
     "text": [
      "\n",
      "\n",
      "\u001b[1m> Entering new AgentExecutor chain...\u001b[0m\n",
      "\u001b[32;1m\u001b[1;3mThe query is asking for the names of companies working with media. I need to find information about companies working with media.\n",
      "Action: Company dataset natural language search\n",
      "Action Input: \"companies working with media\"\u001b[0m"
     ]
    },
    {
     "name": "stderr",
     "output_type": "stream",
     "text": [
      "\u001b[32m2024-01-19 15:45:45.796\u001b[0m | \u001b[1mINFO    \u001b[0m | \u001b[36mreact.tools\u001b[0m:\u001b[36msql_search\u001b[0m:\u001b[36m17\u001b[0m - \u001b[1mGenerated query: \n",
      " SELECT \"COMPANY_NAME\", \"PRINCIPAL_BUSINESS_ACTIVITY_AS_PER_CIN\" \n",
      "FROM companies \n",
      "WHERE \"PRINCIPAL_BUSINESS_ACTIVITY_AS_PER_CIN\" LIKE '%media%'\n",
      "LIMIT 5;\u001b[0m\n"
     ]
    },
    {
     "name": "stdout",
     "output_type": "stream",
     "text": [
      "\n",
      "Observation: \u001b[33;1m\u001b[1;3m[]\u001b[0m\n",
      "Thought:"
     ]
    },
    {
     "name": "stderr",
     "output_type": "stream",
     "text": [
      "\u001b[32m2024-01-19 15:45:47.881\u001b[0m | \u001b[1mINFO    \u001b[0m | \u001b[36magents.react.react_agent\u001b[0m:\u001b[36mrun_agent\u001b[0m:\u001b[36m54\u001b[0m - \u001b[1mGot result: {'input': '\\n    Given a query What are names of companies working with media?, find the information about the question in the query and sent the information as a response.\\n    ', 'output': \"I couldn't find any information about companies working with media.\", 'intermediate_steps': [(AgentAction(tool='Company dataset natural language search', tool_input='companies working with media', log='The query is asking for the names of companies working with media. I need to find information about companies working with media.\\nAction: Company dataset natural language search\\nAction Input: \"companies working with media\"'), '[]')]}\u001b[0m\n"
     ]
    },
    {
     "name": "stdout",
     "output_type": "stream",
     "text": [
      "\u001b[32;1m\u001b[1;3mI couldn't find any information about companies working with media in the dataset.\n",
      "Final Answer: I couldn't find any information about companies working with media.\u001b[0m\n",
      "\n",
      "\u001b[1m> Finished chain.\u001b[0m\n"
     ]
    }
   ],
   "source": [
    "query = \"What are names of companies working with media?\"\n",
    "response = agent.run_agent(query)"
   ]
  }
 ],
 "metadata": {
  "kernelspec": {
   "display_name": "Python 3",
   "language": "python",
   "name": "python3"
  },
  "language_info": {
   "codemirror_mode": {
    "name": "ipython",
    "version": 3
   },
   "file_extension": ".py",
   "mimetype": "text/x-python",
   "name": "python",
   "nbconvert_exporter": "python",
   "pygments_lexer": "ipython3",
   "version": "3.10.13"
  }
 },
 "nbformat": 4,
 "nbformat_minor": 2
}
