{
 "cells": [
  {
   "cell_type": "markdown",
   "metadata": {},
   "source": [
    "These metrics are a useful way to compare the RAG aspect of LLM agents.\n",
    "_Note: some of these metrics overlap with the RAGAS evaluation metrics._\n",
    "\n",
    "### Query Translation (especially interesting for LLM agents)\n",
    "- Evaluate that correct retrieval is occurring.\n",
    "- Is this query different from the previous query? Detect loops.\n",
    "\n",
    "### Context Relevance\n",
    "- Is retrieved context relevant to user query?\n",
    "\n",
    "### Groundedness\n",
    "- Is the response grounded in the context?\n",
    "\n",
    "### Answer Relevance\n",
    "- Is the response helpful?\n",
    "\n",
    "For more information, visit [TruLens Evaluation Function Definitions](https://www.trulens.org/trulens_eval/function_definitions).\n"
   ]
  },
  {
   "cell_type": "markdown",
   "metadata": {},
   "source": []
  }
 ],
 "metadata": {
  "language_info": {
   "name": "python"
  }
 },
 "nbformat": 4,
 "nbformat_minor": 2
}
