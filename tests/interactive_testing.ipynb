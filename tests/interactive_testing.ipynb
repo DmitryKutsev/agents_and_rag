{
 "cells": [
  {
   "cell_type": "code",
   "execution_count": 1,
   "metadata": {},
   "outputs": [
    {
     "name": "stderr",
     "output_type": "stream",
     "text": [
      "c:\\Users\\demons\\OneDrive - Capgemini\\Documents\\Op de bank\\Hackathon 19-01\\agents_and_rag\\.venv\\Lib\\site-packages\\langchain_core\\_api\\deprecation.py:117: LangChainDeprecationWarning: The function `initialize_agent` was deprecated in LangChain 0.1.0 and will be removed in 0.2.0. Use Use new agent constructor methods like create_react_agent, create_json_agent, create_structured_chat_agent, etc. instead.\n",
      "  warn_deprecated(\n"
     ]
    }
   ],
   "source": [
    "import sys\n",
    "import os\n",
    "import sqlite3\n",
    "\n",
    "sys.path.insert(0, os.path.abspath('..'))\n",
    "\n",
    "from agents.react.react_agent import get_react_agent\n",
    "\n",
    "agent = get_react_agent()"
   ]
  },
  {
   "cell_type": "code",
   "execution_count": 2,
   "metadata": {},
   "outputs": [
    {
     "name": "stderr",
     "output_type": "stream",
     "text": [
      "\u001b[32m2024-01-19 12:07:20.251\u001b[0m | \u001b[1mINFO    \u001b[0m | \u001b[36magents.react.react_agent\u001b[0m:\u001b[36mrun_agent\u001b[0m:\u001b[36m52\u001b[0m - \u001b[1mRunning agent with template: \n",
      "    Given a query How many companies are in our dataset?, find the information about the question in the query and sent the information as a response.\n",
      "    \u001b[0m\n"
     ]
    },
    {
     "name": "stdout",
     "output_type": "stream",
     "text": [
      "\n",
      "\n",
      "\u001b[1m> Entering new AgentExecutor chain...\u001b[0m\n",
      "\u001b[32;1m\u001b[1;3mThe information about the question can be found in the query itself. I need to measure the length of the query to determine the action to take.\u001b[0m\n",
      "Observation: Invalid Format: Missing 'Action:' after 'Thought:\n",
      "Thought:\u001b[32;1m\u001b[1;3mI need to measure the length of the query to determine the action to take.\n",
      "Action: Measure length of query\n",
      "Action Input: How many companies are in our dataset?\u001b[0m\n",
      "Observation: \u001b[36;1m\u001b[1;3m38\u001b[0m\n",
      "Thought:\u001b[32;1m\u001b[1;3mThe length of the query is 38. Based on the length, I should use the Company dataset SQL search tool to find the information about the question in the query.\n",
      "Action: Company dataset SQL search\n",
      "Action Input: How many companies are in our dataset?\u001b[0m\n",
      "Observation: \u001b[33;1m\u001b[1;3m[[357]]\u001b[0m\n",
      "Thought:"
     ]
    },
    {
     "name": "stderr",
     "output_type": "stream",
     "text": [
      "\u001b[32m2024-01-19 12:08:35.272\u001b[0m | \u001b[1mINFO    \u001b[0m | \u001b[36magents.react.react_agent\u001b[0m:\u001b[36mrun_agent\u001b[0m:\u001b[36m55\u001b[0m - \u001b[1mGot result: {'input': '\\n    Given a query How many companies are in our dataset?, find the information about the question in the query and sent the information as a response.\\n    ', 'output': 'There are 357 companies in our dataset.', 'intermediate_steps': [(AgentAction(tool='_Exception', tool_input=\"Invalid Format: Missing 'Action:' after 'Thought:\", log='The information about the question can be found in the query itself. I need to measure the length of the query to determine the action to take.'), \"Invalid Format: Missing 'Action:' after 'Thought:\"), (AgentAction(tool='Measure length of query', tool_input='How many companies are in our dataset?', log='I need to measure the length of the query to determine the action to take.\\nAction: Measure length of query\\nAction Input: How many companies are in our dataset?'), 38), (AgentAction(tool='Company dataset SQL search', tool_input='How many companies are in our dataset?', log='The length of the query is 38. Based on the length, I should use the Company dataset SQL search tool to find the information about the question in the query.\\nAction: Company dataset SQL search\\nAction Input: How many companies are in our dataset?'), '[[357]]')]}\u001b[0m\n"
     ]
    },
    {
     "name": "stdout",
     "output_type": "stream",
     "text": [
      "\u001b[32;1m\u001b[1;3mThe information about the question \"How many companies are in our dataset?\" is that there are 357 companies in the dataset.\n",
      "Final Answer: There are 357 companies in our dataset.\u001b[0m\n",
      "\n",
      "\u001b[1m> Finished chain.\u001b[0m\n",
      "{'input': '\\n    Given a query How many companies are in our dataset?, find the information about the question in the query and sent the information as a response.\\n    ', 'output': 'There are 357 companies in our dataset.', 'intermediate_steps': [(AgentAction(tool='_Exception', tool_input=\"Invalid Format: Missing 'Action:' after 'Thought:\", log='The information about the question can be found in the query itself. I need to measure the length of the query to determine the action to take.'), \"Invalid Format: Missing 'Action:' after 'Thought:\"), (AgentAction(tool='Measure length of query', tool_input='How many companies are in our dataset?', log='I need to measure the length of the query to determine the action to take.\\nAction: Measure length of query\\nAction Input: How many companies are in our dataset?'), 38), (AgentAction(tool='Company dataset SQL search', tool_input='How many companies are in our dataset?', log='The length of the query is 38. Based on the length, I should use the Company dataset SQL search tool to find the information about the question in the query.\\nAction: Company dataset SQL search\\nAction Input: How many companies are in our dataset?'), '[[357]]')]}\n"
     ]
    }
   ],
   "source": [
    "result = agent.run_agent(\"How many companies are in our dataset?\")\n",
    "print(result)"
   ]
  },
  {
   "cell_type": "code",
   "execution_count": null,
   "metadata": {},
   "outputs": [],
   "source": [
    "from agents.react.tools import sql_query_chain\n",
    "result = sql_query_chain(\"How many companies are in the database?\")\n",
    "print(result)"
   ]
  },
  {
   "cell_type": "code",
   "execution_count": null,
   "metadata": {},
   "outputs": [],
   "source": [
    "result = agent.run_agent(\"What is the length of this query?\")\n",
    "print(result)"
   ]
  },
  {
   "cell_type": "code",
   "execution_count": null,
   "metadata": {},
   "outputs": [],
   "source": [
    "result = agent.run_agent(\"Find me job descriptions that suit my expertise in washing cars.\")\n",
    "print(result)"
   ]
  }
 ],
 "metadata": {
  "kernelspec": {
   "display_name": ".venv",
   "language": "python",
   "name": "python3"
  },
  "language_info": {
   "codemirror_mode": {
    "name": "ipython",
    "version": 3
   },
   "file_extension": ".py",
   "mimetype": "text/x-python",
   "name": "python",
   "nbconvert_exporter": "python",
   "pygments_lexer": "ipython3",
   "version": "3.12.1"
  }
 },
 "nbformat": 4,
 "nbformat_minor": 2
}
